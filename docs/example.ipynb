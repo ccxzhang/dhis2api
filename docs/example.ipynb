{
 "cells": [
  {
   "cell_type": "markdown",
   "id": "4b4aaa5e-3e5a-43e4-88b6-25cc223e1f1b",
   "metadata": {},
   "source": [
    "# Example"
   ]
  },
  {
   "cell_type": "markdown",
   "id": "843476c2-cd01-4ac9-a5fd-2556237eaf7a",
   "metadata": {},
   "source": [
    "## Using Prepared JSON Files"
   ]
  },
  {
   "cell_type": "code",
   "execution_count": 1,
   "id": "2f15e7da-c6c4-43e9-83fa-4419cf4d2147",
   "metadata": {},
   "outputs": [
    {
     "data": {
      "text/plain": [
       "True"
      ]
     },
     "execution_count": 1,
     "metadata": {},
     "output_type": "execute_result"
    }
   ],
   "source": [
    "import os\n",
    "import sys\n",
    "sys.path.insert(0, \"../\")\n",
    "import pandas as pd\n",
    "from dhis2api.country import Country\n",
    "from dotenv import load_dotenv\n",
    "load_dotenv()"
   ]
  },
  {
   "cell_type": "code",
   "execution_count": 2,
   "id": "a21bbb2b-b52b-4fe9-8766-94ffdc79704e",
   "metadata": {},
   "outputs": [
    {
     "name": "stderr",
     "output_type": "stream",
     "text": [
      "2025-08-04 14:35:58,119 - INFO - 0: Data downloaded successfully\n",
      "2025-08-04 14:36:00,317 - INFO - 1: Data downloaded successfully\n",
      "2025-08-04 14:36:14,729 - INFO - 2: Data downloaded successfully\n",
      "2025-08-04 14:36:17,008 - INFO - 3: Data downloaded successfully\n",
      "2025-08-04 14:36:19,326 - INFO - 4: Data downloaded successfully\n",
      "2025-08-04 14:36:21,692 - INFO - 5: Data downloaded successfully\n",
      "2025-08-04 14:36:32,155 - INFO - 6: Data downloaded successfully\n",
      "2025-08-04 14:36:42,286 - INFO - 7: Data downloaded successfully\n",
      "2025-08-04 14:36:49,890 - INFO - 8: Data downloaded successfully\n",
      "2025-08-04 14:36:51,934 - INFO - 9: Data downloaded successfully\n",
      "2025-08-04 14:36:53,311 - ERROR - 10: Error 500 fetching data for pe:202201-dx:TDbfmbsHSIj\n",
      "2025-08-04 14:36:58,069 - INFO - 11: Data downloaded successfully\n",
      "2025-08-04 14:37:00,701 - INFO - 12: Data downloaded successfully\n",
      "2025-08-04 14:37:02,849 - INFO - 13: Data downloaded successfully\n",
      "2025-08-04 14:37:04,708 - INFO - 14: Data downloaded successfully\n",
      "2025-08-04 14:37:13,413 - INFO - 15: Data downloaded successfully\n"
     ]
    }
   ],
   "source": [
    "SLAuth = (os.getenv(\"SLUsername\"), os.getenv(\"SLPassword\"))\n",
    "\n",
    "country_obj = Country(country=\"sierraleone\",\n",
    "                      base_url= 'https://sl.dhis2.org/hmis/api/29/analytics.json?', \n",
    "                      dates=[\"202201\"], level=\"LEVEL-5\",\n",
    "                      auth=SLAuth,\n",
    "                      json_filepath=sys.path[0] + \"/JsonSelection_All_DataElements.xlsx\")\n",
    "country_obj.request_and_save()"
   ]
  },
  {
   "cell_type": "code",
   "execution_count": 7,
   "id": "8db3c6bd-a612-4b29-bb18-9b770a85dae8",
   "metadata": {},
   "outputs": [
    {
     "data": {
      "text/plain": [
       "array(['F5DCeEkMZbP', 'F63VoBCwxxX', 'grudkdawI9h', 'iRb8yr8WXX5',\n",
       "       'JTZbSlVJnmv', 'n0lUlnuMZFi', 'Q1MX1awbz1h', 'qHuKf5ALBDx',\n",
       "       'Ra0KDOCDTBb', 'roLRNJvsp6f', 'TVOY9C29ikm', 'UNNPnnylzkn',\n",
       "       'W2eW51uqgPP', 'XtpblNP6IIf', 'yL2yw27eKfR'], dtype=object)"
      ]
     },
     "execution_count": 7,
     "metadata": {},
     "output_type": "execute_result"
    }
   ],
   "source": [
    "df = pd.read_csv(\"./sierraleone_08-04-2025.csv\")\n",
    "df[\"dataid\"].unique()"
   ]
  },
  {
   "cell_type": "markdown",
   "id": "7936f714-1bd1-497a-a232-8e5d11b19f2b",
   "metadata": {},
   "source": [
    "## Direct Using"
   ]
  },
  {
   "cell_type": "code",
   "execution_count": 11,
   "id": "b781308c-3657-452f-bda2-cb78afb77aa0",
   "metadata": {},
   "outputs": [
    {
     "name": "stderr",
     "output_type": "stream",
     "text": [
      "2025-08-04 14:40:45,419 - INFO - 0: Data downloaded successfully\n"
     ]
    }
   ],
   "source": [
    "single_download = Country(country=\"sierraleone\",\n",
    "                          base_url= 'https://sl.dhis2.org/hmis/api/29/analytics.json?', \n",
    "                          dates=[\"202201\"], level=\"LEVEL-5\",\n",
    "                          indicators = [\"F5DCeEkMZbP\"],\n",
    "                          auth=SLAuth)\n",
    "single_download.request_and_save()"
   ]
  },
  {
   "cell_type": "code",
   "execution_count": 13,
   "id": "30f3b0e6-3013-4c32-9a0c-3f4a555e56a4",
   "metadata": {},
   "outputs": [
    {
     "data": {
      "text/html": [
       "<div>\n",
       "<style scoped>\n",
       "    .dataframe tbody tr th:only-of-type {\n",
       "        vertical-align: middle;\n",
       "    }\n",
       "\n",
       "    .dataframe tbody tr th {\n",
       "        vertical-align: top;\n",
       "    }\n",
       "\n",
       "    .dataframe thead th {\n",
       "        text-align: right;\n",
       "    }\n",
       "</style>\n",
       "<table border=\"1\" class=\"dataframe\">\n",
       "  <thead>\n",
       "    <tr style=\"text-align: right;\">\n",
       "      <th></th>\n",
       "      <th>orgunitlevel1</th>\n",
       "      <th>orgunitlevel2</th>\n",
       "      <th>orgunitlevel3</th>\n",
       "      <th>orgunitlevel4</th>\n",
       "      <th>orgunitlevel5</th>\n",
       "      <th>organisationunitid</th>\n",
       "      <th>organisationunitname</th>\n",
       "      <th>organisationunitcode</th>\n",
       "      <th>organisationunitdescription</th>\n",
       "      <th>periodid</th>\n",
       "      <th>periodname</th>\n",
       "      <th>periodcode</th>\n",
       "      <th>perioddescription</th>\n",
       "      <th>dataid</th>\n",
       "      <th>dataname</th>\n",
       "      <th>datacode</th>\n",
       "      <th>datadescription</th>\n",
       "      <th>Total</th>\n",
       "      <th>date_downloaded</th>\n",
       "    </tr>\n",
       "  </thead>\n",
       "  <tbody>\n",
       "    <tr>\n",
       "      <th>0</th>\n",
       "      <td>Sierra Leone</td>\n",
       "      <td>Western Area Urban District</td>\n",
       "      <td>Freetown City Council</td>\n",
       "      <td>West 3 Zone</td>\n",
       "      <td>Aberdeen Women Centre Hospital</td>\n",
       "      <td>dar4XkzRmN0</td>\n",
       "      <td>Aberdeen Women Centre Hospital</td>\n",
       "      <td>WAU-WE3-ABEH</td>\n",
       "      <td>NaN</td>\n",
       "      <td>202201</td>\n",
       "      <td>January 2022</td>\n",
       "      <td>202201</td>\n",
       "      <td>NaN</td>\n",
       "      <td>F5DCeEkMZbP</td>\n",
       "      <td>Pentavalent 3rd dose</td>\n",
       "      <td>PENTA_DOSE3</td>\n",
       "      <td>NaN</td>\n",
       "      <td>108.0</td>\n",
       "      <td>08-04-2025</td>\n",
       "    </tr>\n",
       "    <tr>\n",
       "      <th>1</th>\n",
       "      <td>Sierra Leone</td>\n",
       "      <td>Western Area Urban District</td>\n",
       "      <td>Freetown City Council</td>\n",
       "      <td>East 3 Zone</td>\n",
       "      <td>Ad-Bangs Quarry MCHP</td>\n",
       "      <td>Dq86w8tvw1h</td>\n",
       "      <td>Ad-Bangs Quarry MCHP</td>\n",
       "      <td>WAU-EA3-ADBM</td>\n",
       "      <td>NaN</td>\n",
       "      <td>202201</td>\n",
       "      <td>January 2022</td>\n",
       "      <td>202201</td>\n",
       "      <td>NaN</td>\n",
       "      <td>F5DCeEkMZbP</td>\n",
       "      <td>Pentavalent 3rd dose</td>\n",
       "      <td>PENTA_DOSE3</td>\n",
       "      <td>NaN</td>\n",
       "      <td>34.0</td>\n",
       "      <td>08-04-2025</td>\n",
       "    </tr>\n",
       "    <tr>\n",
       "      <th>2</th>\n",
       "      <td>Sierra Leone</td>\n",
       "      <td>Kono District</td>\n",
       "      <td>Koidu New Sembehun City Council</td>\n",
       "      <td>Koidu New Sembehun City</td>\n",
       "      <td>Adama Martha Memorial CHC</td>\n",
       "      <td>waE3sdkY7ha</td>\n",
       "      <td>Adama Martha Memorial CHC</td>\n",
       "      <td>KON-KOC-ADAC</td>\n",
       "      <td>NaN</td>\n",
       "      <td>202201</td>\n",
       "      <td>January 2022</td>\n",
       "      <td>202201</td>\n",
       "      <td>NaN</td>\n",
       "      <td>F5DCeEkMZbP</td>\n",
       "      <td>Pentavalent 3rd dose</td>\n",
       "      <td>PENTA_DOSE3</td>\n",
       "      <td>NaN</td>\n",
       "      <td>40.0</td>\n",
       "      <td>08-04-2025</td>\n",
       "    </tr>\n",
       "    <tr>\n",
       "      <th>3</th>\n",
       "      <td>Sierra Leone</td>\n",
       "      <td>Western Area Rural District</td>\n",
       "      <td>Western Area Rural District Council</td>\n",
       "      <td>York Rural Zone</td>\n",
       "      <td>Adonkia CHP</td>\n",
       "      <td>OWlc4mW2hSs</td>\n",
       "      <td>Adonkia CHP</td>\n",
       "      <td>WAR-YOR-ADOP</td>\n",
       "      <td>NaN</td>\n",
       "      <td>202201</td>\n",
       "      <td>January 2022</td>\n",
       "      <td>202201</td>\n",
       "      <td>NaN</td>\n",
       "      <td>F5DCeEkMZbP</td>\n",
       "      <td>Pentavalent 3rd dose</td>\n",
       "      <td>PENTA_DOSE3</td>\n",
       "      <td>NaN</td>\n",
       "      <td>25.0</td>\n",
       "      <td>08-04-2025</td>\n",
       "    </tr>\n",
       "    <tr>\n",
       "      <th>4</th>\n",
       "      <td>Sierra Leone</td>\n",
       "      <td>Bo District</td>\n",
       "      <td>Bo City Council</td>\n",
       "      <td>Bo City</td>\n",
       "      <td>Aethel CHP</td>\n",
       "      <td>TYTDJOikSBa</td>\n",
       "      <td>Aethel CHP</td>\n",
       "      <td>BOO-BOC-ETHP</td>\n",
       "      <td>Structure built by private individual but 100%...</td>\n",
       "      <td>202201</td>\n",
       "      <td>January 2022</td>\n",
       "      <td>202201</td>\n",
       "      <td>NaN</td>\n",
       "      <td>F5DCeEkMZbP</td>\n",
       "      <td>Pentavalent 3rd dose</td>\n",
       "      <td>PENTA_DOSE3</td>\n",
       "      <td>NaN</td>\n",
       "      <td>16.0</td>\n",
       "      <td>08-04-2025</td>\n",
       "    </tr>\n",
       "  </tbody>\n",
       "</table>\n",
       "</div>"
      ],
      "text/plain": [
       "  orgunitlevel1                orgunitlevel2  \\\n",
       "0  Sierra Leone  Western Area Urban District   \n",
       "1  Sierra Leone  Western Area Urban District   \n",
       "2  Sierra Leone                Kono District   \n",
       "3  Sierra Leone  Western Area Rural District   \n",
       "4  Sierra Leone                  Bo District   \n",
       "\n",
       "                         orgunitlevel3            orgunitlevel4  \\\n",
       "0                Freetown City Council              West 3 Zone   \n",
       "1                Freetown City Council              East 3 Zone   \n",
       "2      Koidu New Sembehun City Council  Koidu New Sembehun City   \n",
       "3  Western Area Rural District Council          York Rural Zone   \n",
       "4                      Bo City Council                  Bo City   \n",
       "\n",
       "                    orgunitlevel5 organisationunitid  \\\n",
       "0  Aberdeen Women Centre Hospital        dar4XkzRmN0   \n",
       "1            Ad-Bangs Quarry MCHP        Dq86w8tvw1h   \n",
       "2       Adama Martha Memorial CHC        waE3sdkY7ha   \n",
       "3                     Adonkia CHP        OWlc4mW2hSs   \n",
       "4                      Aethel CHP        TYTDJOikSBa   \n",
       "\n",
       "             organisationunitname organisationunitcode  \\\n",
       "0  Aberdeen Women Centre Hospital         WAU-WE3-ABEH   \n",
       "1            Ad-Bangs Quarry MCHP         WAU-EA3-ADBM   \n",
       "2       Adama Martha Memorial CHC         KON-KOC-ADAC   \n",
       "3                     Adonkia CHP         WAR-YOR-ADOP   \n",
       "4                      Aethel CHP         BOO-BOC-ETHP   \n",
       "\n",
       "                         organisationunitdescription  periodid    periodname  \\\n",
       "0                                                NaN    202201  January 2022   \n",
       "1                                                NaN    202201  January 2022   \n",
       "2                                                NaN    202201  January 2022   \n",
       "3                                                NaN    202201  January 2022   \n",
       "4  Structure built by private individual but 100%...    202201  January 2022   \n",
       "\n",
       "   periodcode  perioddescription       dataid              dataname  \\\n",
       "0      202201                NaN  F5DCeEkMZbP  Pentavalent 3rd dose   \n",
       "1      202201                NaN  F5DCeEkMZbP  Pentavalent 3rd dose   \n",
       "2      202201                NaN  F5DCeEkMZbP  Pentavalent 3rd dose   \n",
       "3      202201                NaN  F5DCeEkMZbP  Pentavalent 3rd dose   \n",
       "4      202201                NaN  F5DCeEkMZbP  Pentavalent 3rd dose   \n",
       "\n",
       "      datacode  datadescription  Total date_downloaded  \n",
       "0  PENTA_DOSE3              NaN  108.0      08-04-2025  \n",
       "1  PENTA_DOSE3              NaN   34.0      08-04-2025  \n",
       "2  PENTA_DOSE3              NaN   40.0      08-04-2025  \n",
       "3  PENTA_DOSE3              NaN   25.0      08-04-2025  \n",
       "4  PENTA_DOSE3              NaN   16.0      08-04-2025  "
      ]
     },
     "metadata": {},
     "output_type": "display_data"
    }
   ],
   "source": [
    "df = pd.read_csv(\"./sierraleone_08-04-2025.csv\")\n",
    "display(df.head(5))"
   ]
  }
 ],
 "metadata": {
  "kernelspec": {
   "display_name": "po",
   "language": "python",
   "name": "po"
  },
  "language_info": {
   "codemirror_mode": {
    "name": "ipython",
    "version": 3
   },
   "file_extension": ".py",
   "mimetype": "text/x-python",
   "name": "python",
   "nbconvert_exporter": "python",
   "pygments_lexer": "ipython3",
   "version": "3.9.0"
  }
 },
 "nbformat": 4,
 "nbformat_minor": 5
}
